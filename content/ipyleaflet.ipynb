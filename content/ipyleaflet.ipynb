{
  "metadata": {
    "kernelspec": {
      "name": "python",
      "display_name": "Pyolite",
      "language": "python"
    },
    "language_info": {
      "codemirror_mode": {
        "name": "python",
        "version": 3
      },
      "file_extension": ".py",
      "mimetype": "text/x-python",
      "name": "python",
      "nbconvert_exporter": "python",
      "pygments_lexer": "ipython3",
      "version": "3.8"
    }
  },
  "nbformat_minor": 5,
  "nbformat": 4,
  "cells": [
    {
      "cell_type": "code",
      "source": "import piplite\nawait piplite.install('ipyleaflet')",
      "metadata": {},
      "execution_count": null,
      "outputs": [],
      "id": "8eee1995-a52b-4eae-8898-047746e57b19"
    },
    {
      "cell_type": "code",
      "source": "from ipyleaflet import Map, basemaps, basemap_to_tiles\n\nm = Map(\n    basemap=basemap_to_tiles(basemaps.OpenStreetMap.Mapnik),\n    center=(48.204793, 350.121558),\n    zoom=3\n    )\nm",
      "metadata": {},
      "execution_count": null,
      "outputs": [],
      "id": "dbabb8a7"
    }
  ]
}